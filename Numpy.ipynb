{
 "cells": [
  {
   "cell_type": "markdown",
   "metadata": {
    "id": "smBltQen9XIO"
   },
   "source": [
    "# Numpy  \n",
    "\n",
    "_________________________________\n",
    "\n",
    "## Durée du cours  \n",
    "**1h**\n",
    "\n",
    "_________________________________\n",
    "\n",
    "## Contexte\n",
    "### Pré-requis\n",
    "- Connaissance de la syntaxe Python \n",
    "- Connaissance de la programmation orientée objet en Python \n",
    "- Mathématique niveau lycée \n",
    "- De la bonne humeur et de la motivation 🚀\n",
    "\n",
    "\n",
    "NumPy est une extension du langage de programmation Python, **destinée à manipuler des matrices ou tableaux multidimensionnels ainsi que des fonctions mathématiques opérant sur ces tableaux.**\n",
    "Plus précisément, cette bibliothèque logicielle libre et open source fournit de multiples fonctions permettant notamment de créer des vecteurs, matrices et polynômes.\n",
    "NumPy est la base de SciPy, un regroupement de bibliothèques Python autour du calcul scientifique. \n",
    "\n",
    "_________________________________\n",
    "\n",
    "## Sommaire \n",
    "* [Installer numpy](#install)\n",
    "* [La gestion des tableaux](#tab)\n",
    "* [Les opérations et fonctions principales de la librairie](#functions)\n",
    "* [Les statistiques de base](#stats)\n",
    "\n",
    "\n",
    "\n",
    "## <a id=#install>Installer numpy()</a>\n",
    "\n",
    "### Vérifier déjà que vous n'avez pas numpy avec `pip list` : \n",
    "Avant d'installer numpy, on peut vérifier si il est présent sur votre machine avec la commande suivante :\n",
    "```\n",
    "pip list \n",
    "```\n",
    "Si numpy ne s'affiche pas c'est qu'il n'est pas installé. \n",
    "\n",
    "### Installation avec `pip`\n",
    "\n",
    "Vous pouvez installer numpy de plusieurs manières. \n",
    "\n",
    "Manuellement depuis votre terminal lancer la commande suivante :  \n",
    "```bash \n",
    "pip install numpy\n",
    "```\n",
    "ou si vous êtes dans un notebook \n",
    "```python \n",
    "!pip install numpy \n",
    "```\n",
    "Vous pouvez vérifier votre installation en tapant dans votre notebook la ligne de commande : \n",
    "```python\n",
    "import numpy as np\n",
    "```\n",
    "\n",
    "Si la cellule s'execute et passe à la suivante c'est que numpy est bien présent sur votre machine. Dans le cas contraire vous allez avoir une erreur du type `Not Found`. "
   ]
  },
  {
   "cell_type": "code",
   "execution_count": 2,
   "metadata": {
    "executionInfo": {
     "elapsed": 983,
     "status": "ok",
     "timestamp": 1610094164830,
     "user": {
      "displayName": "Benjamin Dallard",
      "photoUrl": "",
      "userId": "17350655208122663419"
     },
     "user_tz": -60
    },
    "id": "cKNeaPRM9XIb"
   },
   "outputs": [],
   "source": [
    "import numpy as np "
   ]
  },
  {
   "cell_type": "markdown",
   "metadata": {
    "id": "pMXtRiF69XId"
   },
   "source": [
    "## <a id=#tab>La gestion des tableaux avec numpy</a>"
   ]
  },
  {
   "cell_type": "code",
   "execution_count": null,
   "metadata": {
    "id": "ieGfBQos9XId",
    "outputId": "771dcdca-6131-4094-9c69-0e959166dbf3"
   },
   "outputs": [
    {
     "data": {
      "text/plain": [
       "array([1.7, 2.8, 3. ])"
      ]
     },
     "execution_count": 2,
     "metadata": {
      "tags": []
     },
     "output_type": "execute_result"
    }
   ],
   "source": [
    "a = np.array([1.7,2.8,3])\n",
    "a"
   ]
  },
  {
   "cell_type": "code",
   "execution_count": null,
   "metadata": {
    "id": "sv0Zbh-M9XIf",
    "outputId": "dd2d55e0-12c5-4322-ff07-897cc9d48b4f"
   },
   "outputs": [
    {
     "data": {
      "text/plain": [
       "dtype('float64')"
      ]
     },
     "execution_count": 3,
     "metadata": {
      "tags": []
     },
     "output_type": "execute_result"
    }
   ],
   "source": [
    "a.dtype"
   ]
  },
  {
   "cell_type": "code",
   "execution_count": null,
   "metadata": {
    "id": "8crqmmK19XIf",
    "outputId": "54dc459f-bf93-4c90-c196-ab1e006dcb9f"
   },
   "outputs": [
    {
     "data": {
      "text/plain": [
       "array(['1', '2.8', '3', 's'], dtype='<U32')"
      ]
     },
     "execution_count": 4,
     "metadata": {
      "tags": []
     },
     "output_type": "execute_result"
    }
   ],
   "source": [
    "a = np.array([1,2.8,3,'s'])\n",
    "a"
   ]
  },
  {
   "cell_type": "code",
   "execution_count": null,
   "metadata": {
    "id": "xxSXeN519XIg",
    "outputId": "31e9acfc-a167-4795-cbe1-47b0810d77fc"
   },
   "outputs": [
    {
     "data": {
      "text/plain": [
       "dtype('<U32')"
      ]
     },
     "execution_count": 5,
     "metadata": {
      "tags": []
     },
     "output_type": "execute_result"
    }
   ],
   "source": [
    "a.dtype"
   ]
  },
  {
   "cell_type": "markdown",
   "metadata": {
    "id": "imIH7Nq89XIg"
   },
   "source": [
    "Le caractère `U` est l'abréviation de *Unicode String* 🤓"
   ]
  },
  {
   "cell_type": "code",
   "execution_count": null,
   "metadata": {
    "id": "c_mMrFKV9XIh",
    "outputId": "f8aafce1-4772-45a1-8307-8d1e7689e7af"
   },
   "outputs": [
    {
     "data": {
      "text/plain": [
       "array([[1, 2],\n",
       "       [3, 4]])"
      ]
     },
     "execution_count": 6,
     "metadata": {
      "tags": []
     },
     "output_type": "execute_result"
    }
   ],
   "source": [
    "m = np.array([[1, 2], [3, 4]])\n",
    "m"
   ]
  },
  {
   "cell_type": "code",
   "execution_count": null,
   "metadata": {
    "id": "bjQt_AEE9XIh",
    "outputId": "f544a530-6459-4351-886b-a721b2e5c4d0"
   },
   "outputs": [
    {
     "data": {
      "text/plain": [
       "array([[1, 2, 3, 4, 5]])"
      ]
     },
     "execution_count": 59,
     "metadata": {
      "tags": []
     },
     "output_type": "execute_result"
    }
   ],
   "source": [
    "#array avec une dimension minimum \n",
    "m2 = np.array([1, 2, 3,4,5], ndmin = 2) \n",
    "m2"
   ]
  },
  {
   "cell_type": "code",
   "execution_count": null,
   "metadata": {
    "id": "QuRxT5Sd9XIi",
    "outputId": "d7c742bf-1e30-4c98-fea9-10103a8d771d"
   },
   "outputs": [
    {
     "data": {
      "text/plain": [
       "2"
      ]
     },
     "execution_count": 8,
     "metadata": {
      "tags": []
     },
     "output_type": "execute_result"
    }
   ],
   "source": [
    "#array[ligne][col]\n",
    "m[0][1]"
   ]
  },
  {
   "cell_type": "code",
   "execution_count": null,
   "metadata": {
    "id": "WVLK7Yqc9XIk"
   },
   "outputs": [],
   "source": [
    "#modif\n",
    "m[0][1] = 9"
   ]
  },
  {
   "cell_type": "code",
   "execution_count": null,
   "metadata": {
    "id": "i1E0J5GI9XIk",
    "outputId": "40f3fb82-8419-44fb-92f5-c427f2ca4b4c"
   },
   "outputs": [
    {
     "data": {
      "text/plain": [
       "(2, 2)"
      ]
     },
     "execution_count": 10,
     "metadata": {
      "tags": []
     },
     "output_type": "execute_result"
    }
   ],
   "source": [
    "m.shape"
   ]
  },
  {
   "cell_type": "code",
   "execution_count": null,
   "metadata": {
    "id": "OX6ho5HB9XIl",
    "outputId": "27a654a1-dabf-4734-eedb-620e27937dec"
   },
   "outputs": [
    {
     "data": {
      "text/plain": [
       "array([[1],\n",
       "       [2],\n",
       "       [3],\n",
       "       [4],\n",
       "       [5]])"
      ]
     },
     "execution_count": 11,
     "metadata": {
      "tags": []
     },
     "output_type": "execute_result"
    }
   ],
   "source": [
    "m2.shape = (5,1)\n",
    "m2"
   ]
  },
  {
   "cell_type": "code",
   "execution_count": null,
   "metadata": {
    "id": "9KnmIGij9XIm",
    "outputId": "30075dc3-8ef2-4ada-b057-c20800ccdf34"
   },
   "outputs": [
    {
     "data": {
      "text/plain": [
       "array([[1, 2, 3, 4, 5]])"
      ]
     },
     "execution_count": 12,
     "metadata": {
      "tags": []
     },
     "output_type": "execute_result"
    }
   ],
   "source": [
    "m2.reshape(1,5)"
   ]
  },
  {
   "cell_type": "code",
   "execution_count": null,
   "metadata": {
    "id": "5S9djZwa9XIn",
    "outputId": "d1d644eb-5e49-4572-84f1-4e78748d28ba"
   },
   "outputs": [
    {
     "data": {
      "text/plain": [
       "array([[[ 0,  1,  2,  3],\n",
       "        [ 4,  5,  6,  7],\n",
       "        [ 8,  9, 10, 11]],\n",
       "\n",
       "       [[12, 13, 14, 15],\n",
       "        [16, 17, 18, 19],\n",
       "        [20, 21, 22, 23]]])"
      ]
     },
     "execution_count": 13,
     "metadata": {
      "tags": []
     },
     "output_type": "execute_result"
    }
   ],
   "source": [
    "#3d\n",
    "c = np.arange(24).reshape(2,3,4); c"
   ]
  },
  {
   "cell_type": "code",
   "execution_count": null,
   "metadata": {
    "id": "eag5isue9XIn",
    "outputId": "d3ab4fdb-6a1c-4eef-a131-c808cb08b2a8"
   },
   "outputs": [
    {
     "data": {
      "text/plain": [
       "(3, 2)"
      ]
     },
     "execution_count": 14,
     "metadata": {
      "tags": []
     },
     "output_type": "execute_result"
    }
   ],
   "source": [
    "#dimension de l'array\n",
    "c.ndim, m.ndim"
   ]
  },
  {
   "cell_type": "markdown",
   "metadata": {
    "id": "F9lmxg1_9XIo"
   },
   "source": [
    "### Sélection d'une partie d'un array \n",
    "\n",
    "Soit `ar` un array 2d tel que :\n",
    "```python\n",
    "ar = numpy.array([[1, 2, 3], [4, 5, 6], [7, 8, 9]])\n",
    "```\n",
    "alors : \n",
    "- `ar[1:3,0:2]` : récupère le sous-array des lignes 2 et 3, et des colonnes 1 et 2.\n",
    "- `ar[1,:]` : renvoie la 2ème ligne, mais l'array renvoyée n'a plus qu'une seule dimension \n",
    "- `ar[1:2,:]` : renvoie aussi la 2ème ligne, mais en conservant les 2 dimensions)\n",
    "- `ar[:,-1]` : renvoie la dernière colonne"
   ]
  },
  {
   "cell_type": "code",
   "execution_count": null,
   "metadata": {
    "id": "kxxdO4YO9XIp",
    "outputId": "b5df8e7c-87fb-49fe-e868-9bfebc2669fe"
   },
   "outputs": [
    {
     "data": {
      "text/plain": [
       "array([[1, 2, 3],\n",
       "       [4, 5, 6]])"
      ]
     },
     "execution_count": 15,
     "metadata": {
      "tags": []
     },
     "output_type": "execute_result"
    }
   ],
   "source": [
    "a = np.array([[1, 2, 3], [4, 5, 6]])\n",
    "a[0:2]"
   ]
  },
  {
   "cell_type": "code",
   "execution_count": null,
   "metadata": {
    "id": "bbsj6lYd9XIr",
    "outputId": "095f1645-935c-45c7-af53-7829f78719d8"
   },
   "outputs": [
    {
     "data": {
      "text/plain": [
       "array([4, 5, 6])"
      ]
     },
     "execution_count": 16,
     "metadata": {
      "tags": []
     },
     "output_type": "execute_result"
    }
   ],
   "source": [
    "a[-1]"
   ]
  },
  {
   "cell_type": "code",
   "execution_count": null,
   "metadata": {
    "id": "p0S3N_P69XIs",
    "outputId": "d261512d-b022-45ea-dc32-764d36d349aa"
   },
   "outputs": [
    {
     "data": {
      "text/plain": [
       "array([[1, 2, 3],\n",
       "       [4, 5, 6]])"
      ]
     },
     "execution_count": 17,
     "metadata": {
      "tags": []
     },
     "output_type": "execute_result"
    }
   ],
   "source": [
    "a[:]"
   ]
  },
  {
   "cell_type": "code",
   "execution_count": null,
   "metadata": {
    "id": "CZLoESgj9XIt",
    "outputId": "2756cc1c-6767-4c3e-aaf8-d66e463ab301"
   },
   "outputs": [
    {
     "data": {
      "text/plain": [
       "array([[1, 2],\n",
       "       [4, 5]])"
      ]
     },
     "execution_count": 18,
     "metadata": {
      "tags": []
     },
     "output_type": "execute_result"
    }
   ],
   "source": [
    "#sous-array 2d des 2 premières lignes et 2 premières colonne\n",
    "a[0:2,0:2] "
   ]
  },
  {
   "cell_type": "code",
   "execution_count": null,
   "metadata": {
    "id": "_KHHHYMp9XIu",
    "outputId": "0f3d34fa-45f2-489a-cdf1-154f78b3f853",
    "scrolled": true
   },
   "outputs": [
    {
     "data": {
      "text/plain": [
       "array([[False,  True, False],\n",
       "       [False, False, False]])"
      ]
     },
     "execution_count": 19,
     "metadata": {
      "tags": []
     },
     "output_type": "execute_result"
    }
   ],
   "source": [
    "#on peut filtrer par valeur \n",
    "a == 2"
   ]
  },
  {
   "cell_type": "markdown",
   "metadata": {
    "id": "qyTB5wLt9XIv"
   },
   "source": [
    "### Opérations sur les tableaux \n",
    "\n",
    "⚠️ shape de vos tableaux ⚠️"
   ]
  },
  {
   "cell_type": "code",
   "execution_count": null,
   "metadata": {
    "id": "qY4KZPHR9XIv",
    "outputId": "c5a3b6cd-6338-45ad-b67b-0a8f6231825f"
   },
   "outputs": [
    {
     "data": {
      "text/plain": [
       "(array([[1, 1],\n",
       "        [0, 1]]),\n",
       " array([[2, 0],\n",
       "        [3, 4]]))"
      ]
     },
     "execution_count": 20,
     "metadata": {
      "tags": []
     },
     "output_type": "execute_result"
    }
   ],
   "source": [
    "A = np.array([[1,1],[0,1]])\n",
    "B = np.array([[2,0],[3,4]])\n",
    "A,B"
   ]
  },
  {
   "cell_type": "code",
   "execution_count": null,
   "metadata": {
    "id": "A9nW0gkG9XIw",
    "outputId": "eb4c650d-5acb-4a04-ab34-d448d9fcf167"
   },
   "outputs": [
    {
     "data": {
      "text/plain": [
       "array([[3, 1],\n",
       "       [3, 5]])"
      ]
     },
     "execution_count": 21,
     "metadata": {
      "tags": []
     },
     "output_type": "execute_result"
    }
   ],
   "source": [
    "A+B"
   ]
  },
  {
   "cell_type": "code",
   "execution_count": null,
   "metadata": {
    "id": "EXuEOTqr9XIw",
    "outputId": "06ede110-624f-406f-a3bf-11085152b3ff"
   },
   "outputs": [
    {
     "data": {
      "text/plain": [
       "array([[-1,  1],\n",
       "       [-3, -3]])"
      ]
     },
     "execution_count": 22,
     "metadata": {
      "tags": []
     },
     "output_type": "execute_result"
    }
   ],
   "source": [
    "A-B"
   ]
  },
  {
   "cell_type": "code",
   "execution_count": null,
   "metadata": {
    "id": "lAuOmP2r9XIx",
    "outputId": "68c2e6b7-a4de-43e6-8790-ca413f4c3658"
   },
   "outputs": [
    {
     "data": {
      "text/plain": [
       "array([[2, 0],\n",
       "       [0, 4]])"
      ]
     },
     "execution_count": 23,
     "metadata": {
      "tags": []
     },
     "output_type": "execute_result"
    }
   ],
   "source": [
    "A*B"
   ]
  },
  {
   "cell_type": "code",
   "execution_count": null,
   "metadata": {
    "id": "HZv-K7RR9XIx",
    "outputId": "d7615183-ec66-4962-f8f2-8f8e4eb4af71"
   },
   "outputs": [
    {
     "name": "stderr",
     "output_type": "stream",
     "text": [
      "<ipython-input-24-5d618eb3152c>:1: RuntimeWarning: divide by zero encountered in true_divide\n",
      "  A/B\n"
     ]
    },
    {
     "data": {
      "text/plain": [
       "array([[0.5 ,  inf],\n",
       "       [0.  , 0.25]])"
      ]
     },
     "execution_count": 24,
     "metadata": {
      "tags": []
     },
     "output_type": "execute_result"
    }
   ],
   "source": [
    "A/B"
   ]
  },
  {
   "cell_type": "code",
   "execution_count": null,
   "metadata": {
    "id": "o4ofeR7R9XIy",
    "outputId": "de2d194b-0e89-4cc9-b973-215b1587d6b9"
   },
   "outputs": [
    {
     "data": {
      "text/plain": [
       "array([[5, 4],\n",
       "       [3, 4]])"
      ]
     },
     "execution_count": 25,
     "metadata": {
      "tags": []
     },
     "output_type": "execute_result"
    }
   ],
   "source": [
    "#produit matricielle\n",
    "A.dot(B)"
   ]
  },
  {
   "cell_type": "markdown",
   "metadata": {
    "id": "CP-HlrzM9XIz"
   },
   "source": [
    "### Les fonctions mathématiques de base \n",
    "La plupart des méthodes numpy s'opérant sur des tableaux, elles partagent souvent l'argument `axis` où `axis=1` fait référence aux lignes et `axis=0` aux colonnes. "
   ]
  },
  {
   "cell_type": "code",
   "execution_count": null,
   "metadata": {
    "id": "E9-XyLCM9XI0",
    "outputId": "3b1b0226-4274-4735-86ff-88acb5cb66fc"
   },
   "outputs": [
    {
     "data": {
      "text/plain": [
       "(1.7, 3.0)"
      ]
     },
     "execution_count": 26,
     "metadata": {
      "tags": []
     },
     "output_type": "execute_result"
    }
   ],
   "source": [
    "#min et max \n",
    "a = np.array([1.7,2.8,3])\n",
    "a.min(), a.max()"
   ]
  },
  {
   "cell_type": "code",
   "execution_count": null,
   "metadata": {
    "id": "YKw2WtlS9XI0",
    "outputId": "a52b8e85-c6ed-466b-9cce-831079a1db14"
   },
   "outputs": [
    {
     "data": {
      "text/plain": [
       "(2, 0)"
      ]
     },
     "execution_count": 27,
     "metadata": {
      "tags": []
     },
     "output_type": "execute_result"
    }
   ],
   "source": [
    "a.argmax(),a.argmin()"
   ]
  },
  {
   "cell_type": "code",
   "execution_count": null,
   "metadata": {
    "id": "99mu0Bc79XI1",
    "outputId": "bd3373b8-2038-4a05-da03-dda3b21107bd"
   },
   "outputs": [
    {
     "data": {
      "text/plain": [
       "2.5"
      ]
     },
     "execution_count": 28,
     "metadata": {
      "tags": []
     },
     "output_type": "execute_result"
    }
   ],
   "source": [
    "#moyenne \n",
    "a.mean()"
   ]
  },
  {
   "cell_type": "code",
   "execution_count": 2,
   "metadata": {
    "colab": {
     "base_uri": "https://localhost:8080/"
    },
    "executionInfo": {
     "elapsed": 950,
     "status": "ok",
     "timestamp": 1610094173532,
     "user": {
      "displayName": "Benjamin Dallard",
      "photoUrl": "",
      "userId": "17350655208122663419"
     },
     "user_tz": -60
    },
    "id": "PjCJRP2V9XI1",
    "outputId": "3c41d5fa-1755-4331-a1a7-1f804a970341"
   },
   "outputs": [
    {
     "data": {
      "text/plain": [
       "array([4, 6])"
      ]
     },
     "execution_count": 2,
     "metadata": {
      "tags": []
     },
     "output_type": "execute_result"
    }
   ],
   "source": [
    "#somme\n",
    "b=np.array([[1, 2], [3, 4]])\n",
    "b.sum(axis=0)"
   ]
  },
  {
   "cell_type": "code",
   "execution_count": 3,
   "metadata": {
    "colab": {
     "base_uri": "https://localhost:8080/"
    },
    "executionInfo": {
     "elapsed": 980,
     "status": "ok",
     "timestamp": 1610094178169,
     "user": {
      "displayName": "Benjamin Dallard",
      "photoUrl": "",
      "userId": "17350655208122663419"
     },
     "user_tz": -60
    },
    "id": "ggB9oVUAFuAX",
    "outputId": "be693cf7-25cf-4514-eff4-9bb61e7cafc7"
   },
   "outputs": [
    {
     "data": {
      "text/plain": [
       "array([[1, 2],\n",
       "       [3, 4]])"
      ]
     },
     "execution_count": 3,
     "metadata": {
      "tags": []
     },
     "output_type": "execute_result"
    }
   ],
   "source": [
    "b"
   ]
  },
  {
   "cell_type": "code",
   "execution_count": 4,
   "metadata": {
    "colab": {
     "base_uri": "https://localhost:8080/"
    },
    "executionInfo": {
     "elapsed": 886,
     "status": "ok",
     "timestamp": 1610094186652,
     "user": {
      "displayName": "Benjamin Dallard",
      "photoUrl": "",
      "userId": "17350655208122663419"
     },
     "user_tz": -60
    },
    "id": "qx71GFCi9XI5",
    "outputId": "66927a6a-692f-4ba4-8324-68e779c3577b"
   },
   "outputs": [
    {
     "data": {
      "text/plain": [
       "array([3, 7])"
      ]
     },
     "execution_count": 4,
     "metadata": {
      "tags": []
     },
     "output_type": "execute_result"
    }
   ],
   "source": [
    "b.sum(axis=1)"
   ]
  },
  {
   "cell_type": "code",
   "execution_count": null,
   "metadata": {
    "id": "H2_jgzc69XI7",
    "outputId": "2bc425c1-d34b-47ee-90ee-e2353837bfc1"
   },
   "outputs": [
    {
     "data": {
      "text/plain": [
       "array([ 1,  3,  6, 10])"
      ]
     },
     "execution_count": 31,
     "metadata": {
      "tags": []
     },
     "output_type": "execute_result"
    }
   ],
   "source": [
    "#somme cumulée\n",
    "np.array([1,2,3,4]).cumsum() "
   ]
  },
  {
   "cell_type": "code",
   "execution_count": null,
   "metadata": {
    "id": "0-Lpb9Je9XI8",
    "outputId": "1fbfebee-e38c-4825-e57b-e60e23e3bf56"
   },
   "outputs": [
    {
     "data": {
      "text/plain": [
       "array([[1, 3],\n",
       "       [3, 7]])"
      ]
     },
     "execution_count": 58,
     "metadata": {
      "tags": []
     },
     "output_type": "execute_result"
    }
   ],
   "source": [
    "b.cumsum(axis=1)"
   ]
  },
  {
   "cell_type": "code",
   "execution_count": null,
   "metadata": {
    "id": "0z5yGwvw9XI9",
    "outputId": "01fdec97-ff7a-44d2-8386-f4fd10fd03ed"
   },
   "outputs": [
    {
     "data": {
      "text/plain": [
       "array([1, 1])"
      ]
     },
     "execution_count": 33,
     "metadata": {
      "tags": []
     },
     "output_type": "execute_result"
    }
   ],
   "source": [
    "#position du max\n",
    "np.argmax(b,axis=1)"
   ]
  },
  {
   "cell_type": "markdown",
   "metadata": {
    "id": "LP3Eb8Xq9XI9"
   },
   "source": [
    "#### Plus de fonctions mathématiques \n",
    "- `np.exp`, `np.log` : exponentielle, logarithme (base e)\n",
    "- `np.log10` : logarithme en base 10\n",
    "- `np.sqrt` : racine carrée\n",
    "- `np.square` : carrés\n",
    "- `np.sin`, `np.cos` et `np.tan` : les fonctions trigonométriques classiques, avec un argument en radians\n",
    "- [Encore pleins de choses](https://docs.scipy.org/doc/numpy-1.13.0/reference/routines.math.html) 👀"
   ]
  },
  {
   "cell_type": "markdown",
   "metadata": {
    "id": "h4C-ZITX9XI-"
   },
   "source": [
    "## <a id=\"functions\">Les fonctions principales de la librairie </a>"
   ]
  },
  {
   "cell_type": "code",
   "execution_count": null,
   "metadata": {
    "id": "X4QY1_H09XI-",
    "outputId": "234e0bcc-5c8a-49ac-af50-ca1fa561090e"
   },
   "outputs": [
    {
     "data": {
      "text/plain": [
       "array([0, 1, 2, 3, 4, 5, 6, 7, 8, 9])"
      ]
     },
     "execution_count": 34,
     "metadata": {
      "tags": []
     },
     "output_type": "execute_result"
    }
   ],
   "source": [
    "np.arange(10)"
   ]
  },
  {
   "cell_type": "code",
   "execution_count": null,
   "metadata": {
    "id": "S2ZV5Leh9XI-",
    "outputId": "fe2213dc-ec55-46dc-e5c4-a37b0d34c796"
   },
   "outputs": [
    {
     "data": {
      "text/plain": [
       "array([0. , 0.3, 0.6, 0.9, 1.2, 1.5, 1.8])"
      ]
     },
     "execution_count": 35,
     "metadata": {
      "tags": []
     },
     "output_type": "execute_result"
    }
   ],
   "source": [
    "np.arange( 0, 2, 0.3 )"
   ]
  },
  {
   "cell_type": "code",
   "execution_count": null,
   "metadata": {
    "id": "rjLrtg909XJA",
    "outputId": "742c9924-5922-4da1-9072-ad5eecd69160",
    "scrolled": true
   },
   "outputs": [
    {
     "data": {
      "text/plain": [
       "array([[0, 1],\n",
       "       [2, 3],\n",
       "       [4, 5],\n",
       "       [6, 7],\n",
       "       [8, 9]])"
      ]
     },
     "execution_count": 36,
     "metadata": {
      "tags": []
     },
     "output_type": "execute_result"
    }
   ],
   "source": [
    "np.arange(10).reshape(5,2)"
   ]
  },
  {
   "cell_type": "code",
   "execution_count": null,
   "metadata": {
    "id": "_std91EA9XJB",
    "outputId": "8843068b-2f42-4203-c74b-734bbee31f3c"
   },
   "outputs": [
    {
     "data": {
      "text/plain": [
       "array([7, 7, 7])"
      ]
     },
     "execution_count": 37,
     "metadata": {
      "tags": []
     },
     "output_type": "execute_result"
    }
   ],
   "source": [
    "#permet de construire des array répétés :\n",
    "np.tile(7, 3)"
   ]
  },
  {
   "cell_type": "code",
   "execution_count": null,
   "metadata": {
    "id": "G4dVBnCV9XJD",
    "outputId": "a6741bb9-7dc6-418b-df59-c508ea9774e5"
   },
   "outputs": [
    {
     "data": {
      "text/plain": [
       "array([[0., 0., 0., 0.],\n",
       "       [0., 0., 0., 0.],\n",
       "       [0., 0., 0., 0.]])"
      ]
     },
     "execution_count": 38,
     "metadata": {
      "tags": []
     },
     "output_type": "execute_result"
    }
   ],
   "source": [
    "np.zeros((3,4))"
   ]
  },
  {
   "cell_type": "code",
   "execution_count": null,
   "metadata": {
    "id": "rpl6pLdF9XJD",
    "outputId": "28842c17-ba8d-4061-b65d-d0356fcc7a08"
   },
   "outputs": [
    {
     "data": {
      "text/plain": [
       "array([[[1, 1, 1, 1],\n",
       "        [1, 1, 1, 1],\n",
       "        [1, 1, 1, 1]],\n",
       "\n",
       "       [[1, 1, 1, 1],\n",
       "        [1, 1, 1, 1],\n",
       "        [1, 1, 1, 1]]], dtype=int8)"
      ]
     },
     "execution_count": 39,
     "metadata": {
      "tags": []
     },
     "output_type": "execute_result"
    }
   ],
   "source": [
    "np.ones((2,3,4), dtype='int8')"
   ]
  },
  {
   "cell_type": "code",
   "execution_count": null,
   "metadata": {
    "id": "aZD0bfkE9XJE",
    "outputId": "e23f9667-96a4-4897-e287-ddf24efb7a50"
   },
   "outputs": [
    {
     "data": {
      "text/plain": [
       "array([[0., 1., 0.],\n",
       "       [0., 0., 1.],\n",
       "       [0., 0., 0.]])"
      ]
     },
     "execution_count": 40,
     "metadata": {
      "tags": []
     },
     "output_type": "execute_result"
    }
   ],
   "source": [
    "#numpy.eye permet aussi de faire des diagonales autre que la diagonale principale \n",
    "np.eye(3, 3, 1)\n",
    "#avec numpy.eye(3, 3, -1), on aurait la sous-diagonale\n",
    "#avec numpy.eye(3, 3, 2), on aurait un 1 en haut à droite"
   ]
  },
  {
   "cell_type": "code",
   "execution_count": null,
   "metadata": {
    "id": "kKtHn-179XJE",
    "outputId": "790d5298-706f-4b92-f9e3-e5dd44e77b23"
   },
   "outputs": [
    {
     "data": {
      "text/plain": [
       "array([[1, 0],\n",
       "       [0, 4]])"
      ]
     },
     "execution_count": 41,
     "metadata": {
      "tags": []
     },
     "output_type": "execute_result"
    }
   ],
   "source": [
    "np.diag(np.array([1, 4])) #crée une matrice diagonale avec la diagonale indiquée en array "
   ]
  },
  {
   "cell_type": "code",
   "execution_count": 5,
   "metadata": {
    "colab": {
     "base_uri": "https://localhost:8080/"
    },
    "executionInfo": {
     "elapsed": 412,
     "status": "ok",
     "timestamp": 1610094722095,
     "user": {
      "displayName": "Benjamin Dallard",
      "photoUrl": "",
      "userId": "17350655208122663419"
     },
     "user_tz": -60
    },
    "id": "BsnxM3WS9XJE",
    "outputId": "34d708a4-d05a-4030-bc44-21f1b770ca6d"
   },
   "outputs": [
    {
     "data": {
      "text/plain": [
       "array([0.  , 0.25, 0.5 , 0.75, 1.  , 1.25, 1.5 , 1.75, 2.  ])"
      ]
     },
     "execution_count": 5,
     "metadata": {
      "tags": []
     },
     "output_type": "execute_result"
    }
   ],
   "source": [
    "np.linspace(0, 2, 9)"
   ]
  },
  {
   "cell_type": "code",
   "execution_count": null,
   "metadata": {
    "id": "9H9dTpMh9XJF",
    "outputId": "d324e161-d22c-4ccb-91f4-bd680e04d646"
   },
   "outputs": [
    {
     "data": {
      "text/plain": [
       "array([ 0.00000000e+00,  6.34239197e-02,  1.26592454e-01,  1.89251244e-01,\n",
       "        2.51147987e-01,  3.12033446e-01,  3.71662456e-01,  4.29794912e-01,\n",
       "        4.86196736e-01,  5.40640817e-01,  5.92907929e-01,  6.42787610e-01,\n",
       "        6.90079011e-01,  7.34591709e-01,  7.76146464e-01,  8.14575952e-01,\n",
       "        8.49725430e-01,  8.81453363e-01,  9.09631995e-01,  9.34147860e-01,\n",
       "        9.54902241e-01,  9.71811568e-01,  9.84807753e-01,  9.93838464e-01,\n",
       "        9.98867339e-01,  9.99874128e-01,  9.96854776e-01,  9.89821442e-01,\n",
       "        9.78802446e-01,  9.63842159e-01,  9.45000819e-01,  9.22354294e-01,\n",
       "        8.95993774e-01,  8.66025404e-01,  8.32569855e-01,  7.95761841e-01,\n",
       "        7.55749574e-01,  7.12694171e-01,  6.66769001e-01,  6.18158986e-01,\n",
       "        5.67059864e-01,  5.13677392e-01,  4.58226522e-01,  4.00930535e-01,\n",
       "        3.42020143e-01,  2.81732557e-01,  2.20310533e-01,  1.58001396e-01,\n",
       "        9.50560433e-02,  3.17279335e-02, -3.17279335e-02, -9.50560433e-02,\n",
       "       -1.58001396e-01, -2.20310533e-01, -2.81732557e-01, -3.42020143e-01,\n",
       "       -4.00930535e-01, -4.58226522e-01, -5.13677392e-01, -5.67059864e-01,\n",
       "       -6.18158986e-01, -6.66769001e-01, -7.12694171e-01, -7.55749574e-01,\n",
       "       -7.95761841e-01, -8.32569855e-01, -8.66025404e-01, -8.95993774e-01,\n",
       "       -9.22354294e-01, -9.45000819e-01, -9.63842159e-01, -9.78802446e-01,\n",
       "       -9.89821442e-01, -9.96854776e-01, -9.99874128e-01, -9.98867339e-01,\n",
       "       -9.93838464e-01, -9.84807753e-01, -9.71811568e-01, -9.54902241e-01,\n",
       "       -9.34147860e-01, -9.09631995e-01, -8.81453363e-01, -8.49725430e-01,\n",
       "       -8.14575952e-01, -7.76146464e-01, -7.34591709e-01, -6.90079011e-01,\n",
       "       -6.42787610e-01, -5.92907929e-01, -5.40640817e-01, -4.86196736e-01,\n",
       "       -4.29794912e-01, -3.71662456e-01, -3.12033446e-01, -2.51147987e-01,\n",
       "       -1.89251244e-01, -1.26592454e-01, -6.34239197e-02, -2.44929360e-16])"
      ]
     },
     "execution_count": 43,
     "metadata": {
      "tags": []
     },
     "output_type": "execute_result"
    }
   ],
   "source": [
    "x = np.linspace(0, 2*np.pi, 100)\n",
    "#exemple avec la fonction sinus\n",
    "f = lambda x : np.sin(x)\n",
    "f(x)"
   ]
  },
  {
   "cell_type": "markdown",
   "metadata": {
    "id": "w1NQcWyi9XJF"
   },
   "source": [
    "#### La copie et concaténation de tableaux avec `copy()` et `stack()`"
   ]
  },
  {
   "cell_type": "code",
   "execution_count": null,
   "metadata": {
    "id": "CWQ4nm1Y9XJF"
   },
   "outputs": [],
   "source": [
    "#copy \n",
    "cop = x.copy()"
   ]
  },
  {
   "cell_type": "code",
   "execution_count": null,
   "metadata": {
    "id": "u4d9c3YL9XJF",
    "outputId": "a9518e25-558c-4a7b-818a-368a270e9f30"
   },
   "outputs": [
    {
     "data": {
      "text/plain": [
       "array([[0.        , 0.06346652, 0.12693304, 0.19039955, 0.25386607,\n",
       "        0.31733259, 0.38079911, 0.44426563, 0.50773215, 0.57119866],\n",
       "       [5.71198664, 5.77545316, 5.83891968, 5.9023862 , 5.96585272,\n",
       "        6.02931923, 6.09278575, 6.15625227, 6.21971879, 6.28318531]])"
      ]
     },
     "execution_count": 45,
     "metadata": {
      "tags": []
     },
     "output_type": "execute_result"
    }
   ],
   "source": [
    "#concatenation \n",
    "np.stack([x[0:10],x[-10:]])"
   ]
  },
  {
   "cell_type": "markdown",
   "metadata": {
    "id": "AX-YhDBn9XJG"
   },
   "source": [
    "### La génération de nombre aléatoire \n",
    "\n",
    "La production de nombre aléatoire est un vaste sujet, je vous renvoie à l'excellent [article wikipedia](https://fr.wikipedia.org/wiki/Générateur_de_nombres_aléatoires) sur les générateurs de nombre aléatoire. On utilisera comme générateur de nombre aléatoire [numpy.random](https://docs.scipy.org/doc/numpy-1.15.0/reference/routines.random.html) 🤓\n"
   ]
  },
  {
   "cell_type": "code",
   "execution_count": null,
   "metadata": {
    "id": "_KCY-FSq9XJG",
    "outputId": "811f95d0-4604-4503-ef89-7f061ded079b"
   },
   "outputs": [
    {
     "data": {
      "text/plain": [
       "array([0.31157762, 0.8135474 , 0.98621582, 0.62493714])"
      ]
     },
     "execution_count": 55,
     "metadata": {
      "tags": []
     },
     "output_type": "execute_result"
    }
   ],
   "source": [
    "rd = np.random\n",
    "#array 1d de 4 nombres d'une distribution gaussienne normalisée\n",
    "rd.rand(4)"
   ]
  },
  {
   "cell_type": "code",
   "execution_count": null,
   "metadata": {
    "id": "n9VWdk0e9XJG",
    "outputId": "a7d87cb1-45ed-4ee0-a611-93d550b479ee"
   },
   "outputs": [
    {
     "data": {
      "text/plain": [
       "array([[-0.16484132,  0.78053559],\n",
       "       [-0.90269346, -0.35244572],\n",
       "       [-0.37360171, -0.56968846],\n",
       "       [-0.98642328,  0.82359043]])"
      ]
     },
     "execution_count": 54,
     "metadata": {
      "tags": []
     },
     "output_type": "execute_result"
    }
   ],
   "source": [
    "#array 2d de 4 x 2 nombres d'une distribution gaussienne standard\n",
    "rd.randn(4,2)"
   ]
  },
  {
   "cell_type": "code",
   "execution_count": null,
   "metadata": {
    "id": "JzyOQdyv9XJH",
    "outputId": "8390abe1-2dbc-477c-cc23-41ed8f37d183"
   },
   "outputs": [
    {
     "data": {
      "text/plain": [
       "array([0, 2, 3, 0, 1, 2, 3, 0, 0, 4])"
      ]
     },
     "execution_count": 48,
     "metadata": {
      "tags": []
     },
     "output_type": "execute_result"
    }
   ],
   "source": [
    "#array 1d de 10 nombres entiers entre 0 et 5, 5 exclus\n",
    "rd.randint(0,5,10)"
   ]
  },
  {
   "cell_type": "code",
   "execution_count": null,
   "metadata": {
    "id": "VhtqpRe39XJH",
    "outputId": "8070f55f-3c96-471e-b8d3-4e0aa503a70c"
   },
   "outputs": [
    {
     "data": {
      "text/plain": [
       "array([0.18235325, 0.97907627, 0.15999282, 0.18723177])"
      ]
     },
     "execution_count": 56,
     "metadata": {
      "tags": []
     },
     "output_type": "execute_result"
    }
   ],
   "source": [
    "#renvoie 7 valeurs aléatoires dans l'intervalle [0;1[ \n",
    "rd.ranf(4)"
   ]
  },
  {
   "cell_type": "markdown",
   "metadata": {
    "id": "I-msPz3w9XJH"
   },
   "source": [
    "## <a id=\"stats\">Les statistiques de base</a>\n",
    "\n",
    "La statistique est une branche des mathématiques qui consiste à étudier des phénomènes par la collecte de données, leur traitement, leur analyse, l'interprétation des résultats et leur présentation afin de rendre les données compréhensibles par tous. C'est à la fois une science, une méthode et un ensemble de techniques.\n",
    "Comme beaucoup de Sciences, elle possède une composante théorique ainsi qu'une composante appliquée. La composante théorique s'appuie sur la théorie des probabilités et forme avec cette dernière, les sciences de l'aléatoire. La statistique appliquée est utilisée dans presque tous les domaines aujourd'hui : ingénierie, management, économie, politique, biologie, informatique, etc. \n",
    "Définition de [wikipedia](https://fr.wikipedia.org/wiki/Statistique)\n",
    "\n",
    "**« Parmi les thèmes à propos desquels les statisticiens ne sont pas d'accord, se trouve la définition de leur science.»**\n",
    ", *Maurice Kendall* \n",
    "\n",
    "Avant de se lancer nous devons fixer quelques mots de vocabulaire. En effet, il est nécessaire de bien formaliser notre vocabulaire au début afin de ne pas se retrouver bloqué sur des \"*termes techniques*\".\n",
    "\n",
    "\n",
    "### Vocabulaire \n",
    "\n",
    "\n",
    "#### La population et les individus  \n",
    "La population est l’ensemble des individus (ou un individu est une unité statistique) auxquels on décide de sintériser. Sa taille, habituellement désignée par `N`, est grande, ou même infinie. Le choix de la population étudiée dépend du problème qui est à l’origine de la démarche statistique, et de la façon dont on décide de le traiter.\n",
    "Définition de [wikipedia](https://fr.wikipedia.org/wiki/Population).\n",
    "\n",
    "\n",
    "#### Statistique   \n",
    "Une statistique est un nombre, un chiffre calculé à partir d’une population dans l'optique de rendre compte d'un certain aspect de cette même population est une statistique. La moyenne et la variance sont des statistiques. \n",
    "\n",
    "\n",
    "#### Les variables \n",
    "\n",
    "Dans les mathématiques supérieures et en logique, une variable est un symbole représentant, a priori, un objet indéterminé. On peut cependant ajouter des conditions sur cet objet, tel que l'ensemble ou la collection le contenant. On peut alors utiliser une variable pour marquer un rôle dans un prédicat, une formule ou un algorithme, ou bien résoudre des équations et d'autres problèmes. En statistique une variable peut aussi représenter une qualité. Elle peut être quantitative ou qualitative.\n",
    "Définition de [wikipedia](https://fr.wikipedia.org/wiki/Variable_(mathématiques)).\n",
    "\n",
    "* Une variable **quantitative** est une variable Ce lien renvoie vers une page d'homonymie qui reflète une notion de grandeur, c'est-à-dire si les valeurs qu'elle peut prendre sont des nombres. Une grandeur quantitative est souvent exprimée avec une unité de mesure qui sert de référence. Définition de [wikipedia](https://fr.wikipedia.org/wiki/Variable_quantitative).\n",
    "\n",
    "* Une variable **qualitative**, une variable catégorielle, ou bien un facteur est une variable qui prend pour valeur des modalités, des catégories ou bien des niveaux, par opposition aux variables quantitatives qui mesurent sur chaque individu une quantité. Définition de [wikipedia](https://fr.wikipedia.org/wiki/Variable_catégorielle).\n",
    "\n",
    "\n",
    "#### Médiane \n",
    "En théorie des probabilités et en statistiques, la médiane d'un ensemble de valeurs (échantillon, population, distribution de probabilités) est une valeur x qui permet de couper l'ensemble des valeurs en deux parties égales : mettant d'un côté une moitié des valeurs, qui sont toutes inférieures ou égales à x et de l'autre côté l'autre moitié des valeurs, qui sont toutes supérieures ou égales à x (s'il y a un nombre impair de valeurs, la valeur centrale sera mise des deux côtés). Définition de [wikipedia](https://fr.wikipedia.org/wiki/Médiane_(statistiques)).\n",
    "\n",
    "#### Quantiles\n",
    "En statistiques et en théorie des probabilités, les quantiles sont les valeurs qui divisent un jeu de données en intervalles contenant le même nombre de données. Définition de [wikipedia](https://fr.wikipedia.org/wiki/Quantile).\n",
    "\n",
    "\n",
    "#### La variance $V(X)$ et sa racine carrée, l’écart-type $\\sigma(X)$ \n",
    "En statistique et en théorie des probabilités, la variance est une mesure de la dispersion des valeurs d'un échantillon ou d'une distribution de probabilité. L’écart-type est sa racine carrée, il est souvent noté $\\sigma$ *(la lettre grec sigma)*. Ce sont des statistiques de dispersion. On appelle $\\sigma(X)$ la variance du vecteur $X=(x_1,...,x_i,...x_n)$ elle s'écrit de la façon suivante : \n",
    "\n",
    "$${\\sigma(X)}=\\frac1n\\sum_{i=1}^n(x_i-m)^2$$\n",
    "\n",
    "Définition de [wikipedia](https://fr.wikipedia.org/wiki/Variance_(mathématiques)).\n",
    "Elle se calcule avec la fonction `std(X)`.\n",
    "\n",
    "\n",
    "#### Espérance mathématique\n",
    "En théorie des probabilités, l'espérance mathématique d'une variable aléatoire réelle est, intuitivement, la valeur que l'on s'attend à trouver, en moyenne, si l'on répète un grand nombre de fois la même expérience aléatoire. Elle se note pour une variable X : $$\\operatorname {E}(X)$$\n",
    "\n",
    "Définition de [wikipedia](https://fr.wikipedia.org/wiki/Espérance_mathématique). \n",
    "Elle se calcule avec la fonction `mean(X)`.\n",
    "\n",
    "\n",
    "#### La covariance \n",
    "La covariance entre deux variables $X$ et $Y$ est un nombre (une statistique) permettant de quantifier leurs écarts conjoints par rapport à leurs espérances respectives. Elle s'écrit $\\operatorname {cov}(X,Y)$\n",
    "\n",
    "$$\\operatorname {cov}(X,Y)\\equiv \\operatorname {E}[(X-\\operatorname {E}[X])\\,(Y-\\operatorname {E}[Y])]$$\n",
    "\n",
    "Définition de [wikipedia](https://fr.wikipedia.org/wiki/Covariance).\n",
    "Elle se calcule avec la fonction `cov(X,Y)`.\n",
    "\n",
    "#### La corrélation \n",
    "En probabilités et en statistique, la corrélation entre plusieurs variables aléatoires ou statistiques est une notion de liaison qui contredit leur indépendance.\n",
    "\n",
    "Elle s'écrit tel que : \n",
    "\n",
    "$$cor(X, Y) = \\frac{cov(X, Y)}{\\sigma(X)\\sigma(Y)}$$\n",
    "\n",
    "Définition de [wikipedia](https://fr.wikipedia.org/wiki/Corrélation_(statistiques)).\n",
    "Elle se calcule avec la fonction `correlate(X,Y)`. "
   ]
  },
  {
   "cell_type": "markdown",
   "metadata": {
    "id": "wYcihfdk9XJI"
   },
   "source": [
    "## Ressources en +\n",
    "\n",
    "- La [documentation officielle](https://docs.scipy.org/doc/numpy-1.13.0/reference/) \n",
    "- Le cours très complet des écoles [EPFL-ENAC](https://enacit.epfl.ch/cours/python/scientifique/numpy.html)\n",
    "- Portail wikipedia des mathématiques [ici](https://fr.wikipedia.org/wiki/Portail:Mathématiques) \n",
    "- Résumé synthétique wiki sur les statistiques de base avec Numpy [ici](https://fr.wikibooks.org/wiki/Python_pour_le_calcul_scientifique/Statistiques) "
   ]
  },
  {
   "cell_type": "code",
   "execution_count": null,
   "metadata": {
    "id": "Guxhn16_9XJI"
   },
   "outputs": [],
   "source": []
  }
 ],
 "metadata": {
  "colab": {
   "name": "Numpy.ipynb",
   "provenance": []
  },
  "kernelspec": {
   "display_name": "Python 3",
   "language": "python",
   "name": "python3"
  },
  "language_info": {
   "codemirror_mode": {
    "name": "ipython",
    "version": 3
   },
   "file_extension": ".py",
   "mimetype": "text/x-python",
   "name": "python",
   "nbconvert_exporter": "python",
   "pygments_lexer": "ipython3",
   "version": "3.7.9"
  },
  "latex_envs": {
   "LaTeX_envs_menu_present": true,
   "autoclose": false,
   "autocomplete": true,
   "bibliofile": "biblio.bib",
   "cite_by": "apalike",
   "current_citInitial": 1,
   "eqLabelWithNumbers": true,
   "eqNumInitial": 1,
   "hotkeys": {
    "equation": "Ctrl-E",
    "itemize": "Ctrl-I"
   },
   "labels_anchors": false,
   "latex_user_defs": false,
   "report_style_numbering": false,
   "user_envs_cfg": false
  },
  "toc": {
   "base_numbering": 1,
   "nav_menu": {},
   "number_sections": true,
   "sideBar": true,
   "skip_h1_title": false,
   "title_cell": "Table of Contents",
   "title_sidebar": "Contents",
   "toc_cell": false,
   "toc_position": {},
   "toc_section_display": true,
   "toc_window_display": true
  },
  "varInspector": {
   "cols": {
    "lenName": 16,
    "lenType": 16,
    "lenVar": 40
   },
   "kernels_config": {
    "python": {
     "delete_cmd_postfix": "",
     "delete_cmd_prefix": "del ",
     "library": "var_list.py",
     "varRefreshCmd": "print(var_dic_list())"
    },
    "r": {
     "delete_cmd_postfix": ") ",
     "delete_cmd_prefix": "rm(",
     "library": "var_list.r",
     "varRefreshCmd": "cat(var_dic_list()) "
    }
   },
   "types_to_exclude": [
    "module",
    "function",
    "builtin_function_or_method",
    "instance",
    "_Feature"
   ],
   "window_display": false
  }
 },
 "nbformat": 4,
 "nbformat_minor": 1
}
