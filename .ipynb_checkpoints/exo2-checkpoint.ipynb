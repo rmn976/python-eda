{
 "cells": [
  {
   "cell_type": "code",
   "execution_count": 1,
   "metadata": {},
   "outputs": [
    {
     "name": "stdout",
     "output_type": "stream",
     "text": [
      "P(2 , 3)\n",
      "P(2 , 3)\n",
      "P(1 , -5 , 6)\n"
     ]
    }
   ],
   "source": [
    "class Point:\n",
    "\n",
    "    def __init__(self, x, y, z=0):\n",
    "        self.x = x\n",
    "        self.y = y\n",
    "        self.z = z\n",
    "\n",
    "   \n",
    "    def __str__(self):\n",
    "        if self.z == 0:\n",
    "            return \"P({} , {})\".format(self.x, self.y)\n",
    "        else:\n",
    "            return \"P({} , {} , {})\".format(self.x, self.y, self.z)\n",
    "\n",
    "    def toString(self):\n",
    "        print(self)\n",
    "        \n",
    "P1 = Point(2,3)\n",
    "print(P1)\n",
    "P1.toString()\n",
    "\n",
    "P2 = Point(1,-5,6)\n",
    "P2.toString()"
   ]
  },
  {
   "cell_type": "code",
   "execution_count": null,
   "metadata": {},
   "outputs": [],
   "source": []
  }
 ],
 "metadata": {
  "kernelspec": {
   "display_name": "Python 3",
   "language": "python",
   "name": "python3"
  },
  "language_info": {
   "codemirror_mode": {
    "name": "ipython",
    "version": 3
   },
   "file_extension": ".py",
   "mimetype": "text/x-python",
   "name": "python",
   "nbconvert_exporter": "python",
   "pygments_lexer": "ipython3",
   "version": "3.7.9"
  }
 },
 "nbformat": 4,
 "nbformat_minor": 4
}
