{
 "cells": [
  {
   "cell_type": "code",
   "execution_count": 3,
   "metadata": {},
   "outputs": [
    {
     "name": "stdout",
     "output_type": "stream",
     "text": [
      "Nom: Ilyass\n",
      "Prénom: Math\n",
      "Date de naissance: 01 / 07 / 1982\n",
      "Nom: Ilyass\n",
      "Prénom: Math\n",
      "Date de naissance: 01 / 07 / 1985\n",
      "Salaire: 7865.55\n",
      "Nom: Ilyass\n",
      "Prénom: Math\n",
      "Date de naissance: 01 / 07 / 1988\n",
      "Salaire: 7865.55\n",
      "Service: Ressource humaine\n"
     ]
    }
   ],
   "source": [
    "class DateNaissance:\n",
    "    \n",
    "    def __init__(self, jour, mois, annee):\n",
    "        self._jour = str(jour).zfill(2)\n",
    "        self._mois = str(mois).zfill(2)\n",
    "        self._annee = annee\n",
    "        \n",
    "    def __str__(self):\n",
    "        return \"{} / {} / {}\".format(self._jour, self._mois, self._annee)\n",
    "        \n",
    "class Personne():\n",
    "\n",
    "    def __init__(self, nom, prenom, date_naissance):\n",
    "        self._nom = nom\n",
    "        self._prenom = prenom\n",
    "        self._date_naissance = date_naissance\n",
    "        \n",
    "    def afficher(self):\n",
    "        print(\"Nom: {}\".format(self._nom))\n",
    "        print(\"Prénom: {}\".format(self._prenom))\n",
    "        print(\"Date de naissance: {}\".format(self._date_naissance))\n",
    "    \n",
    "class Employe(Personne):\n",
    "    \n",
    "    def __init__(self, nom, prenom, date_naissance, salaire):\n",
    "        super().__init__(nom, prenom, date_naissance)\n",
    "        self._salaire = format(salaire, '.2f')\n",
    "        \n",
    "    def afficher(self):\n",
    "        super().afficher()\n",
    "        print(\"Salaire: {}\".format(self._salaire))\n",
    "        \n",
    "class Chef(Employe):\n",
    "    \n",
    "    def __init__(self, nom, prenom, date_naissance, salaire, service):\n",
    "        super().__init__(nom, prenom, date_naissance, salaire)\n",
    "        self._service = service\n",
    "        \n",
    "    def afficher(self):\n",
    "        super().afficher()\n",
    "        print(\"Service: {}\".format(self._service))\n",
    "        \n",
    "        \n",
    "P=Personne(\"Ilyass\",\"Math\",DateNaissance(1,7,1982))\n",
    "P.afficher()\n",
    "E=Employe(\"Ilyass\",\"Math\",DateNaissance(1,7,1985),7865.548)\n",
    "E.afficher()\n",
    "Ch=Chef(\"Ilyass\",\"Math\",DateNaissance(1,7,1988),7865.548,\"Ressource humaine\")\n",
    "Ch.afficher()"
   ]
  },
  {
   "cell_type": "code",
   "execution_count": null,
   "metadata": {},
   "outputs": [],
   "source": []
  }
 ],
 "metadata": {
  "kernelspec": {
   "display_name": "Python 3",
   "language": "python",
   "name": "python3"
  },
  "language_info": {
   "codemirror_mode": {
    "name": "ipython",
    "version": 3
   },
   "file_extension": ".py",
   "mimetype": "text/x-python",
   "name": "python",
   "nbconvert_exporter": "python",
   "pygments_lexer": "ipython3",
   "version": "3.7.9"
  }
 },
 "nbformat": 4,
 "nbformat_minor": 4
}
