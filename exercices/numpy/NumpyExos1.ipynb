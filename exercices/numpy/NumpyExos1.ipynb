{
 "cells": [
  {
   "cell_type": "code",
   "execution_count": 2,
   "metadata": {},
   "outputs": [],
   "source": [
    "import numpy as np"
   ]
  },
  {
   "cell_type": "markdown",
   "metadata": {},
   "source": [
    "# Quelques fonctions utiles"
   ]
  },
  {
   "cell_type": "markdown",
   "metadata": {},
   "source": [
    "On a créé un tableau 2D `rdm_mat` contenant des valeurs aléatoires. "
   ]
  },
  {
   "cell_type": "code",
   "execution_count": 3,
   "metadata": {},
   "outputs": [
    {
     "name": "stdout",
     "output_type": "stream",
     "text": [
      "[[0.89178981 0.40347359]\n",
      " [0.57166299 0.08830998]]\n"
     ]
    }
   ],
   "source": [
    "rdm_mat = np.random.rand(2,2)\n",
    "print(rdm_mat)"
   ]
  },
  {
   "cell_type": "markdown",
   "metadata": {},
   "source": [
    "Donner le type de la variable rdm_mat"
   ]
  },
  {
   "cell_type": "code",
   "execution_count": 4,
   "metadata": {},
   "outputs": [
    {
     "name": "stdout",
     "output_type": "stream",
     "text": [
      "float64\n"
     ]
    }
   ],
   "source": [
    "print(rdm_mat.dtype)"
   ]
  },
  {
   "cell_type": "markdown",
   "metadata": {},
   "source": [
    "Donner la somme des éléments de ce tableau 2D"
   ]
  },
  {
   "cell_type": "code",
   "execution_count": 5,
   "metadata": {},
   "outputs": [
    {
     "name": "stdout",
     "output_type": "stream",
     "text": [
      "1.9552363703812616\n"
     ]
    }
   ],
   "source": [
    "print(rdm_mat.sum())"
   ]
  },
  {
   "cell_type": "markdown",
   "metadata": {},
   "source": [
    "Faire en sorte de récupérer la valeur maximale sur chaque ligne (sans boucles) avec la fonction np.max"
   ]
  },
  {
   "cell_type": "code",
   "execution_count": 6,
   "metadata": {},
   "outputs": [
    {
     "data": {
      "text/plain": [
       "array([0.89178981, 0.57166299])"
      ]
     },
     "execution_count": 6,
     "metadata": {},
     "output_type": "execute_result"
    }
   ],
   "source": [
    "np.max(rdm_mat, axis= 1)"
   ]
  },
  {
   "cell_type": "markdown",
   "metadata": {},
   "source": [
    "Faire de même pour récupérer la valeur maximum pour chaque colonne (sans boucles)"
   ]
  },
  {
   "cell_type": "code",
   "execution_count": 7,
   "metadata": {},
   "outputs": [
    {
     "data": {
      "text/plain": [
       "array([0.89178981, 0.40347359])"
      ]
     },
     "execution_count": 7,
     "metadata": {},
     "output_type": "execute_result"
    }
   ],
   "source": [
    "np.max(rdm_mat, axis=0)"
   ]
  },
  {
   "cell_type": "markdown",
   "metadata": {},
   "source": [
    "Faire la même chose (max des lignes) en définissant un tableau avec une boucle for et la fonction max de numpy"
   ]
  },
  {
   "cell_type": "code",
   "execution_count": 8,
   "metadata": {},
   "outputs": [
    {
     "name": "stdout",
     "output_type": "stream",
     "text": [
      "[[0.89178981 0.40347359]\n",
      " [0.57166299 0.08830998]]\n"
     ]
    }
   ],
   "source": [
    "print(rdm_mat)\n",
    "max_rdm = np.array([])"
   ]
  },
  {
   "cell_type": "code",
   "execution_count": 9,
   "metadata": {},
   "outputs": [],
   "source": [
    "for cell in rdm_mat:\n",
    "    max_rdm = np.append(max_rdm, np.max(cell))"
   ]
  },
  {
   "cell_type": "code",
   "execution_count": 10,
   "metadata": {},
   "outputs": [
    {
     "name": "stdout",
     "output_type": "stream",
     "text": [
      "[0.89178981 0.57166299]\n"
     ]
    }
   ],
   "source": [
    "print(max_rdm)"
   ]
  },
  {
   "cell_type": "markdown",
   "metadata": {},
   "source": [
    "On crée un vecteur aléatoire de taille 100 `rdm_vect`"
   ]
  },
  {
   "cell_type": "code",
   "execution_count": 11,
   "metadata": {},
   "outputs": [
    {
     "name": "stdout",
     "output_type": "stream",
     "text": [
      "[-1.12546684  0.04494435  0.08877718 -0.5034989   0.26703605 -1.44548844\n",
      " -1.77678841 -0.01242099  1.34837713 -0.39106372  0.93718935  1.11981342\n",
      "  2.04589258 -0.20087062 -0.12667619  1.1394553   1.32219624  1.43330769\n",
      "  1.16697137  0.55389401 -0.18705909 -0.12543314 -0.33101177  0.71555882\n",
      "  0.74519895 -0.99957754 -0.50507943  0.23366836 -0.04402261  0.29148544\n",
      "  0.8268689   0.55091622  0.11786894 -0.31933696 -0.10791838 -2.79851883\n",
      "  1.03083404  1.2826029   0.36873736  0.56300061  0.07012259  0.10049339\n",
      " -0.23286052  1.18030553  0.7178182  -1.21929032 -0.1113409   1.12398327\n",
      "  1.61952934  0.17464643 -1.3110086  -0.4349315   0.43172449 -2.14738482\n",
      " -1.0059449  -0.22614556  0.48369562 -1.15989255  2.16409373 -1.3543334\n",
      "  0.7663387  -0.72753188 -1.04463519  0.08668232  0.78410266 -1.0908774\n",
      " -0.24557657  0.21160655  1.31858465 -1.25999687  0.94338178  1.20393458\n",
      "  2.17994337  1.3357557  -0.12635971  0.01718148  0.94353148 -0.57841946\n",
      " -0.6822964  -0.18230383  0.23667737 -0.43196635  0.31046209 -3.65672249\n",
      " -0.04771405 -0.59149899 -0.81510127  1.06264249 -0.92243901 -0.18022313\n",
      " -0.26145156  1.71831548  0.20096492  1.16307753  0.41787713 -0.69779278\n",
      "  0.41531282 -2.03424647 -0.20159821  0.40641234]\n"
     ]
    }
   ],
   "source": [
    "rdm_vect = np.random.randn(100)\n",
    "rdm_vect.shape\n",
    "print(rdm_vect)"
   ]
  },
  {
   "cell_type": "markdown",
   "metadata": {},
   "source": [
    "Récupérer la position de la valeur maximale du vecteur avec la méthode np.argmax"
   ]
  },
  {
   "cell_type": "code",
   "execution_count": 12,
   "metadata": {},
   "outputs": [
    {
     "data": {
      "text/plain": [
       "72"
      ]
     },
     "execution_count": 12,
     "metadata": {},
     "output_type": "execute_result"
    }
   ],
   "source": [
    "np.argmax(rdm_vect)"
   ]
  },
  {
   "cell_type": "markdown",
   "metadata": {},
   "source": [
    "Afficher cette valeur "
   ]
  },
  {
   "cell_type": "code",
   "execution_count": 13,
   "metadata": {},
   "outputs": [
    {
     "name": "stdout",
     "output_type": "stream",
     "text": [
      "2.179943365003701\n",
      "2.179943365003701\n"
     ]
    }
   ],
   "source": [
    "\"1er\"\n",
    "print(np.max(rdm_vect))\n",
    "\"2ème\"\n",
    "print(rdm_vect[np.argmax(rdm_vect)])"
   ]
  },
  {
   "cell_type": "markdown",
   "metadata": {},
   "source": [
    "Convertir le vecteur en un tableau 10, 10"
   ]
  },
  {
   "cell_type": "code",
   "execution_count": 14,
   "metadata": {},
   "outputs": [
    {
     "name": "stdout",
     "output_type": "stream",
     "text": [
      "[[-1.12546684  0.04494435  0.08877718 -0.5034989   0.26703605 -1.44548844\n",
      "  -1.77678841 -0.01242099  1.34837713 -0.39106372]\n",
      " [ 0.93718935  1.11981342  2.04589258 -0.20087062 -0.12667619  1.1394553\n",
      "   1.32219624  1.43330769  1.16697137  0.55389401]\n",
      " [-0.18705909 -0.12543314 -0.33101177  0.71555882  0.74519895 -0.99957754\n",
      "  -0.50507943  0.23366836 -0.04402261  0.29148544]\n",
      " [ 0.8268689   0.55091622  0.11786894 -0.31933696 -0.10791838 -2.79851883\n",
      "   1.03083404  1.2826029   0.36873736  0.56300061]\n",
      " [ 0.07012259  0.10049339 -0.23286052  1.18030553  0.7178182  -1.21929032\n",
      "  -0.1113409   1.12398327  1.61952934  0.17464643]\n",
      " [-1.3110086  -0.4349315   0.43172449 -2.14738482 -1.0059449  -0.22614556\n",
      "   0.48369562 -1.15989255  2.16409373 -1.3543334 ]\n",
      " [ 0.7663387  -0.72753188 -1.04463519  0.08668232  0.78410266 -1.0908774\n",
      "  -0.24557657  0.21160655  1.31858465 -1.25999687]\n",
      " [ 0.94338178  1.20393458  2.17994337  1.3357557  -0.12635971  0.01718148\n",
      "   0.94353148 -0.57841946 -0.6822964  -0.18230383]\n",
      " [ 0.23667737 -0.43196635  0.31046209 -3.65672249 -0.04771405 -0.59149899\n",
      "  -0.81510127  1.06264249 -0.92243901 -0.18022313]\n",
      " [-0.26145156  1.71831548  0.20096492  1.16307753  0.41787713 -0.69779278\n",
      "   0.41531282 -2.03424647 -0.20159821  0.40641234]]\n"
     ]
    }
   ],
   "source": [
    "\n",
    "m = rdm_vect.reshape(10,10)\n",
    "print(m)"
   ]
  },
  {
   "cell_type": "markdown",
   "metadata": {},
   "source": [
    "Calculer la moyenne de chaque ligne de ce tableau (sans boucles)"
   ]
  },
  {
   "cell_type": "code",
   "execution_count": 15,
   "metadata": {},
   "outputs": [
    {
     "name": "stdout",
     "output_type": "stream",
     "text": [
      "[-0.35055926  0.93911732 -0.0206272   0.15150548  0.3423407  -0.45601275\n",
      " -0.1201303   0.5054349  -0.50358833  0.11268712]\n"
     ]
    }
   ],
   "source": [
    "print(np.mean(m, axis=1))"
   ]
  },
  {
   "cell_type": "markdown",
   "metadata": {},
   "source": [
    "Faire un tableau qui contient la moyenne de chaque colonne du tableau "
   ]
  },
  {
   "cell_type": "markdown",
   "metadata": {},
   "source": [
    "Calculer la somme de chaque colonne (sans boucles)"
   ]
  },
  {
   "cell_type": "code",
   "execution_count": 16,
   "metadata": {},
   "outputs": [
    {
     "name": "stdout",
     "output_type": "stream",
     "text": [
      "[ 0.08955926  0.30185546  0.37671261 -0.23464339  0.15174198 -0.79125531\n",
      "  0.07416836  0.15628318  0.61359373 -0.13784821]\n"
     ]
    }
   ],
   "source": [
    "print(np.mean(m, axis=0))"
   ]
  },
  {
   "cell_type": "markdown",
   "metadata": {},
   "source": [
    "Calculer la somme pour chaque ligne (sans boucles)"
   ]
  },
  {
   "cell_type": "code",
   "execution_count": 17,
   "metadata": {},
   "outputs": [
    {
     "name": "stdout",
     "output_type": "stream",
     "text": [
      "[-3.5055926   9.39117316 -0.20627201  1.51505479  3.42340701 -4.56012747\n",
      " -1.20130303  5.05434898 -5.03588334  1.12687117]\n"
     ]
    }
   ],
   "source": [
    "print(np.sum(m, axis=1))"
   ]
  },
  {
   "cell_type": "code",
   "execution_count": 18,
   "metadata": {},
   "outputs": [
    {
     "name": "stdout",
     "output_type": "stream",
     "text": [
      "[ 0.8955926   3.01855457  3.76712611 -2.3464339   1.51741975 -7.91255308\n",
      "  0.74168362  1.56283179  6.13593734 -1.37848213]\n"
     ]
    }
   ],
   "source": [
    "print(np.sum(m, axis=0))"
   ]
  },
  {
   "cell_type": "code",
   "execution_count": null,
   "metadata": {},
   "outputs": [],
   "source": []
  }
 ],
 "metadata": {
  "kernelspec": {
   "display_name": "Python 3",
   "language": "python",
   "name": "python3"
  },
  "language_info": {
   "codemirror_mode": {
    "name": "ipython",
    "version": 3
   },
   "file_extension": ".py",
   "mimetype": "text/x-python",
   "name": "python",
   "nbconvert_exporter": "python",
   "pygments_lexer": "ipython3",
   "version": "3.7.9"
  },
  "latex_envs": {
   "LaTeX_envs_menu_present": true,
   "autoclose": false,
   "autocomplete": true,
   "bibliofile": "biblio.bib",
   "cite_by": "apalike",
   "current_citInitial": 1,
   "eqLabelWithNumbers": true,
   "eqNumInitial": 1,
   "hotkeys": {
    "equation": "Ctrl-E",
    "itemize": "Ctrl-I"
   },
   "labels_anchors": false,
   "latex_user_defs": false,
   "report_style_numbering": false,
   "user_envs_cfg": false
  },
  "toc": {
   "base_numbering": 1,
   "nav_menu": {},
   "number_sections": true,
   "sideBar": true,
   "skip_h1_title": false,
   "title_cell": "Table of Contents",
   "title_sidebar": "Contents",
   "toc_cell": false,
   "toc_position": {},
   "toc_section_display": true,
   "toc_window_display": false
  },
  "varInspector": {
   "cols": {
    "lenName": 16,
    "lenType": 16,
    "lenVar": 40
   },
   "kernels_config": {
    "python": {
     "delete_cmd_postfix": "",
     "delete_cmd_prefix": "del ",
     "library": "var_list.py",
     "varRefreshCmd": "print(var_dic_list())"
    },
    "r": {
     "delete_cmd_postfix": ") ",
     "delete_cmd_prefix": "rm(",
     "library": "var_list.r",
     "varRefreshCmd": "cat(var_dic_list()) "
    }
   },
   "types_to_exclude": [
    "module",
    "function",
    "builtin_function_or_method",
    "instance",
    "_Feature"
   ],
   "window_display": false
  }
 },
 "nbformat": 4,
 "nbformat_minor": 2
}
