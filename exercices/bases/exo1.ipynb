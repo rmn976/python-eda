{
 "cells": [
  {
   "cell_type": "code",
   "execution_count": 1,
   "metadata": {},
   "outputs": [
    {
     "name": "stdout",
     "output_type": "stream",
     "text": [
      "The balance of Duchmol 's bank account is 950 euros\n",
      "The balance of Dupont 's bank account is 1025 euros\n"
     ]
    }
   ],
   "source": [
    "class BankAccount:\n",
    "    def __init__(self, name = \"Dupont\", balance = 1000):\n",
    "        self.name = name \n",
    "        self.balance = balance\n",
    "\n",
    "    def deposit(self, value):\n",
    "        self.balance += value \n",
    "     \n",
    "    def withdrawal(self, value):\n",
    "        self.balance -= value \n",
    "\n",
    "    def show(self):\n",
    "        print(\"The balance of \" + self.name+\" 's bank account is \"+str(self.balance)+\" euros\")\n",
    "\n",
    "\n",
    "\n",
    "account1 = BankAccount(\"Duchmol\", 800)\n",
    "account1.deposit(350)\n",
    "account1.withdrawal(200)\n",
    "account1.show()\n",
    "account2 = BankAccount()\n",
    "account2.deposit(25)\n",
    "account2.show()"
   ]
  },
  {
   "cell_type": "code",
   "execution_count": null,
   "metadata": {},
   "outputs": [],
   "source": []
  }
 ],
 "metadata": {
  "kernelspec": {
   "display_name": "Python 3",
   "language": "python",
   "name": "python3"
  },
  "language_info": {
   "codemirror_mode": {
    "name": "ipython",
    "version": 3
   },
   "file_extension": ".py",
   "mimetype": "text/x-python",
   "name": "python",
   "nbconvert_exporter": "python",
   "pygments_lexer": "ipython3",
   "version": "3.7.9"
  }
 },
 "nbformat": 4,
 "nbformat_minor": 4
}
